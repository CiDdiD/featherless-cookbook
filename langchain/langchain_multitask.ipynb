{
 "cells": [
  {
   "cell_type": "markdown",
   "metadata": {},
   "source": [
    "# Multi-Task Language Processing with LangChain and Featherless\n",
    "This notebook demonstrates how to create a flexible multi-task pipeline using LangChain and Featherless AI. We'll show how to:\n",
    "- Use different models for different tasks\n",
    "- Chain multiple operations together\n",
    "- Process text through translation and sentiment analysis\n",
    "## Prerequisites\n",
    "1. Sign up for an account at [Featherless](https://featherless.ai/register)\n",
    "2. Subscribe to a plan and get your API key from [API Keys](https://featherless.ai/account/api-keys)\n",
    "## Setup\n",
    "First, let's import the required libraries and set up our API key."
   ]
  },
  {
   "cell_type": "code",
   "execution_count": null,
   "metadata": {},
   "outputs": [],
   "source": [
    "!pip install langchain langchain-openai"
   ]
  },
  {
   "cell_type": "code",
   "execution_count": null,
   "metadata": {},
   "outputs": [],
   "source": [
    "from langchain.prompts import PromptTemplate\n",
    "from langchain_openai import ChatOpenAI\n",
    "from langchain_core.runnables import RunnableLambda, RunnablePassthrough\n",
    "import os\n",
    "# Set your API key\n",
    "FEATHERLESS_API_KEY= \"your-api-key-here\" # Replace with actual API key\n",
    "# Alternatively, you can set it as an environment variable\n",
    "# FEATHERLESS_API_KEY = os.getenv(\"FEATHERLESS_API_KEY\")"
   ]
  },
  {
   "cell_type": "markdown",
   "metadata": {},
   "source": [
    "## Model Configuration\n",
    "We'll use different models for different tasks to optimize performance. "
   ]
  },
  {
   "cell_type": "code",
   "execution_count": null,
   "metadata": {},
   "outputs": [],
   "source": [
    "# Define models for different tasks\n",
    "classification_llm = ChatOpenAI(\n",
    "    api_key=\"{FEATHERLESS_API_KEY}\",\n",
    "    base_url=\"https://api.featherless.ai/v1\",\n",
    "    model=\"meta-llama/Meta-Llama-3.1-8B-Instruct\",\n",
    ")\n",
    "\n",
    "translation_llm = ChatOpenAI(\n",
    "    api_key=\"{FEATHERLESS_API_KEY}\",\n",
    "    base_url=\"https://api.featherless.ai/v1\",\n",
    "    model=\"mistralai/Mistral-Nemo-Instruct-2407\",\n",
    ")"
   ]
  },
  {
   "cell_type": "markdown",
   "metadata": {},
   "source": [
    "## Prompt Templates\n",
    "Define templates for our translation and classification tasks"
   ]
  },
  {
   "cell_type": "code",
   "execution_count": null,
   "metadata": {},
   "outputs": [],
   "source": [
    "# Define prompt templates\n",
    "translation_prompt = PromptTemplate.from_template(\n",
    "    \"Translate the following sentence from English to French:\\n{input}\"\n",
    ")\n",
    "classification_prompt = PromptTemplate.from_template(\n",
    "    \"Classify the sentiment of the following text as positive, negative, or neutral:\\n{input}\"\n",
    ")"
   ]
  },
  {
   "cell_type": "markdown",
   "metadata": {},
   "source": [
    "## Task Definition\n",
    "Create individual tasks for translation and classification that can be chained together."
   ]
  },
  {
   "cell_type": "code",
   "execution_count": null,
   "metadata": {},
   "outputs": [],
   "source": [
    "# Translation task\n",
    "translation_task = RunnableLambda(\n",
    "    lambda input: {\n",
    "        \"task\": \"Translation\",\n",
    "        \"translated_text\": translation_llm.invoke(translation_prompt.format(input=input[\"text\"])).content  # Extract content\n",
    "    }\n",
    ")\n",
    "\n",
    "# Classification task\n",
    "classification_task = RunnableLambda(\n",
    "    lambda input: {\n",
    "        \"task\": \"Classification\",\n",
    "        \"translated_text\": input[\"translated_text\"],  # Passing the translated text\n",
    "        \"classification_result\": classification_llm.invoke(classification_prompt.format(input=input[\"translated_text\"])).content\n",
    "    }\n",
    ")"
   ]
  },
  {
   "cell_type": "markdown",
   "metadata": {},
   "source": [
    "## Workflow Creation and Execution\n",
    "Chain the tasks together and run the workflow with a sample input."
   ]
  },
  {
   "cell_type": "code",
   "execution_count": null,
   "metadata": {},
   "outputs": [],
   "source": [
    "# Chain the tasks together\n",
    "workflow = RunnablePassthrough() | translation_task | classification_task\n",
    "\n",
    "# Run the workflow\n",
    "result = workflow.invoke({\"text\": \"I love using Featherless.\"})\n",
    "print(result)"
   ]
  }
 ],
 "metadata": {
  "language_info": {
   "name": "python"
  }
 },
 "nbformat": 4,
 "nbformat_minor": 2
}
