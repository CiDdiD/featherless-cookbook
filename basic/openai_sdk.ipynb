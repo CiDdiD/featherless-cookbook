{
 "cells": [
  {
   "cell_type": "markdown",
   "metadata": {},
   "source": [
    "# Featherless OpenAI Compatibility\n",
    "This notebook demonstrates how to make an API call with Featherless by adjusting the OpenAI SDK parameters.\n",
    "This compatibility extends across the ecosystem of applications and tools built for OpenAI, making the transition to Featherless straightforward for teams working with these tools. You can find a list of a few of those applications [here](https://featherless.ai/blog/running-open-source-llms-in-popular-ai-clients-with-featherless-a-complete-guide).\n",
    "## Prerequisites\n",
    "1. Sign up for an account at [Featherless](https://featherless.ai/register)\n",
    "2. Subscribe to a plan and get your API key from [API Keys page](https://featherless.ai/account/api-keys)\n",
    "## Setup\n",
    "First, let's import the required libraries and set up our API key."
   ]
  },
  {
   "cell_type": "code",
   "execution_count": null,
   "metadata": {},
   "outputs": [],
   "source": [
    "import os\n",
    "from openai import OpenAI\n",
    "# Set your API key\n",
    "FEATHERLESS_API_KEY= \"your-api-key-here\" # Replace with actual API key\n",
    "# Alternatively, you can set it as an environment variable\n",
    "# FEATHERLESS_API_KEY = os.getenv(\"FEATHERLESS_API_KEY\")"
   ]
  },
  {
   "cell_type": "markdown",
   "metadata": {},
   "source": [
    "The only changes needed here are the client's `base_url`, the `api_key` and the `model` parameter. The rest of the code is unchanged. This compatibility means you can switch between models without having to rewrite any of your existing application logic."
   ]
  },
  {
   "cell_type": "code",
   "execution_count": null,
   "metadata": {},
   "outputs": [],
   "source": [
    "client = OpenAI(\n",
    "  base_url=\"<https://api.featherless.ai/v1>\",\n",
    "  api_key=\"{FEATHERLESS_API_KEY}\",\n",
    ")\n",
    "response = client.chat.completions.create(\n",
    "  model='meta-llama/Meta-Llama-3.1-8B-Instruct',\n",
    "  messages=[\n",
    "    {\"role\": \"system\", \"content\": \"You are a helpful assistant.\"},\n",
    "    {\"role\": \"user\", \"content\": \"Hello!\"}\n",
    "  ],\n",
    ")"
   ]
  },
  {
   "cell_type": "markdown",
   "metadata": {},
   "source": [
    "## Processing the response"
   ]
  },
  {
   "cell_type": "code",
   "execution_count": null,
   "metadata": {},
   "outputs": [],
   "source": [
    "print(response.model_dump()['choices'][0]['message']['content'])"
   ]
  }
 ],
 "metadata": {
  "language_info": {
   "name": "python"
  }
 },
 "nbformat": 4,
 "nbformat_minor": 2
}
