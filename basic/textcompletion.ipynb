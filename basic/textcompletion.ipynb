{
 "cells": [
  {
   "cell_type": "markdown",
   "metadata": {},
   "source": [
    "# Text Completion with Featherless AI\n",
    "This notebook demonstrates how to make basic text completion calls using the Featherless AI API.\n",
    "## Prerequisites\n",
    "1. Sign up for an account at [Featherless](https://featherless.ai/register)\n",
    "2. Subscribe to a plan and get your API key from [API Keys page](https://featherless.ai/account/api-keys)\n",
    "## Setup\n",
    "First, let's import the required libraries and set up our API key.\n"
   ]
  },
  {
   "cell_type": "code",
   "execution_count": null,
   "metadata": {},
   "outputs": [],
   "source": [
    "import requests\n",
    "import os\n",
    "# Set your API key\n",
    "FEATHERLESS_API_KEY= \"your-api-key-here\" # Replace with actual API key\n",
    "# Alternatively, you can set it as an environment variable\n",
    "# FEATHERLESS_API_KEY = os.getenv(\"FEATHERLESS_API_KEY\")"
   ]
  },
  {
   "cell_type": "markdown",
   "metadata": {},
   "source": [
    "## Making a text completion request\n",
    "Now let's make a text completion request. It accepts a single text prompt, giving you complete control over the prompt format.\n",
    "We've also added max_tokens as a parameter here to specify the the length of response in tokens we would want back from the model. A more elaborate overview of the different parameters you can provide to the endpoint is available in our [documentation](https://featherless.ai/docs/completions)"
   ]
  },
  {
   "cell_type": "code",
   "execution_count": null,
   "metadata": {},
   "outputs": [],
   "source": [
    "response = requests.post(\n",
    "    url=\"https://api.featherless.ai/v1/completions\",\n",
    "    headers={\n",
    "        \"Content-Type\": \"application/json\",\n",
    "        \"Authorization\": \"Bearer {FEATHERLESS_API_KEY}\"\n",
    "    },\n",
    "    json={\n",
    "        \"model\": \"meta-llama/Meta-Llama-3.1-8B-Instruct\", \n",
    "        \"prompt\": \"Once upon a time\",\n",
    "        \"max_tokens\": 500\n",
    "    }\n",
    ")"
   ]
  },
  {
   "cell_type": "markdown",
   "metadata": {},
   "source": [
    "## Processing the response"
   ]
  },
  {
   "cell_type": "code",
   "execution_count": null,
   "metadata": {},
   "outputs": [],
   "source": [
    "print(response.json()[\"choices\"][0][\"text\"])"
   ]
  },
  {
   "cell_type": "markdown",
   "metadata": {},
   "source": []
  }
 ],
 "metadata": {
  "language_info": {
   "name": "python"
  }
 },
 "nbformat": 4,
 "nbformat_minor": 2
}
